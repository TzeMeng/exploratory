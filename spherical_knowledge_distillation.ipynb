
[Link to Paper](https://arxiv.org/pdf/2010.07485.pdf)
